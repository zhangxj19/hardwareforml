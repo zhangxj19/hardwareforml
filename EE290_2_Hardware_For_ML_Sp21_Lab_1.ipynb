{
  "cells": [
    {
      "cell_type": "markdown",
      "metadata": {
        "id": "zTvIwDlYvBzC"
      },
      "source": [
        "# Initial Setup\n",
        "\n",
        "Before beginning the assignment, we import the CIFAR dataset, and train a simple convolutional neural network (CNN) to classify it."
      ]
    },
    {
      "cell_type": "code",
      "execution_count": 1,
      "metadata": {
        "id": "hbiiMcdNJI--"
      },
      "outputs": [],
      "source": [
        "import torch\n",
        "import torchvision\n",
        "import torchvision.transforms as transforms\n",
        "import torch.nn as nn\n",
        "import torch.nn.functional as F\n",
        "import torch.optim as optim"
      ]
    },
    {
      "cell_type": "markdown",
      "metadata": {
        "id": "FG3WW1Owq1Fh"
      },
      "source": [
        "**Reminder:** set the runtime type to \"GPU\", or your code will run much more slowly on a CPU."
      ]
    },
    {
      "cell_type": "code",
      "execution_count": 2,
      "metadata": {
        "id": "A3RF5VmcoUMG"
      },
      "outputs": [
        {
          "name": "stdout",
          "output_type": "stream",
          "text": [
            "cuda\n"
          ]
        }
      ],
      "source": [
        "if torch.cuda.is_available():\n",
        "    device = torch.device('cuda')\n",
        "else:\n",
        "    device = torch.device('cpu')\n",
        "print(device)"
      ]
    },
    {
      "cell_type": "markdown",
      "metadata": {
        "id": "nCaMDWYArEXO"
      },
      "source": [
        "Load training and test data from the CIFAR10 dataset."
      ]
    },
    {
      "cell_type": "code",
      "execution_count": 9,
      "metadata": {
        "id": "_5UuOjjrnogR"
      },
      "outputs": [
        {
          "name": "stdout",
          "output_type": "stream",
          "text": [
            "Files already downloaded and verified\n",
            "Files already downloaded and verified\n"
          ]
        }
      ],
      "source": [
        "transform = transforms.Compose(\n",
        "    [transforms.ToTensor(),\n",
        "     transforms.Normalize((0.5, 0.5, 0.5), (0.5, 0.5, 0.5))])\n",
        "\n",
        "trainset = torchvision.datasets.CIFAR10(root='./data', train=True,\n",
        "                                        download=True, transform=transform)\n",
        "trainloader = torch.utils.data.DataLoader(trainset, batch_size=256,\n",
        "                                          shuffle=True, num_workers=2)\n",
        "\n",
        "testset = torchvision.datasets.CIFAR10(root='./data', train=False,\n",
        "                                       download=True, transform=transform)\n",
        "testloader = torch.utils.data.DataLoader(testset, batch_size=32,\n",
        "                                         shuffle=False, num_workers=2)"
      ]
    },
    {
      "cell_type": "markdown",
      "metadata": {
        "id": "l62CkyIwtSOv"
      },
      "source": [
        "Define a simple CNN that classifies CIFAR images.\n",
        "The network provided is similar to LeNet-5, and it has the following architecture:\n",
        "\n",
        "**Layer** | **Type** | **Input Shape** | **Output Shape** | **Activation**\n",
        "--- | --- | --- | --- | ---\n",
        "conv1 | Convolutional | 3x32x32 | 6x28x28 | ReLU\n",
        "pool1 | Max pool | 6x28x28 | 6x14x14 | None                \n",
        "conv2 | Convolutional | 6x14x14 | 16x10x10 | ReLU                \n",
        "pool2 | Max pool | 16x10x10 | 16x5x5 | None                \n",
        "fc1 | Fully-connected | 400 | 120 | ReLU                \n",
        "fc2 | Fully-connected | 120 | 84 | ReLU                \n",
        "fc3 | Fully-connected | 84 | 10 | None                \n",
        "\n",
        "None of the layers in the network have a bias associated with them.\n",
        "This makes them easier to quantize.\n",
        "Towards the end of this assignment, we will add biases to the final layer and quantize it as well."
      ]
    },
    {
      "cell_type": "code",
      "execution_count": 10,
      "metadata": {
        "id": "9fL3F-7Rntog"
      },
      "outputs": [],
      "source": [
        "class Net(nn.Module):\n",
        "    def __init__(self):\n",
        "        super(Net, self).__init__()\n",
        "        self.conv1 = nn.Conv2d(3, 6, 5, bias=False)\n",
        "        self.pool = nn.MaxPool2d(2, 2) # run after each conv (hence the 5x5 FC layer)\n",
        "        self.conv2 = nn.Conv2d(6, 16, 5, bias=False)\n",
        "        self.fc1 = nn.Linear(16 * 5 * 5, 120, bias=False)\n",
        "        self.fc2 = nn.Linear(120, 84, bias=False)\n",
        "        self.fc3 = nn.Linear(84, 10, bias=False)\n",
        "\n",
        "    def forward(self, x: torch.Tensor) -> torch.Tensor:\n",
        "        x = self.pool(F.relu(self.conv1(x)))\n",
        "        x = self.pool(F.relu(self.conv2(x)))\n",
        "        x = x.view(-1, 16 * 5 * 5)\n",
        "        x = F.relu(self.fc1(x))\n",
        "        x = F.relu(self.fc2(x))\n",
        "        x = self.fc3(x)\n",
        "        return x\n",
        "\n",
        "net = Net().to(device)"
      ]
    },
    {
      "cell_type": "markdown",
      "metadata": {
        "id": "Nijieuxptag6"
      },
      "source": [
        "Train this CNN on the training dataset (this may take a few moments)."
      ]
    },
    {
      "cell_type": "code",
      "execution_count": 15,
      "metadata": {
        "id": "CzK6ohj5oNCT"
      },
      "outputs": [],
      "source": [
        "from torch.utils.data import DataLoader\n",
        "\n",
        "def train(model: nn.Module, dataloader: DataLoader):\n",
        "    criterion = nn.CrossEntropyLoss()\n",
        "    optimizer = optim.SGD(model.parameters(), lr=0.001, momentum=0.9)\n",
        "\n",
        "    for epoch in range(100):  # loop over the dataset multiple times\n",
        "\n",
        "        running_loss = 0.0\n",
        "        for i, data in enumerate(dataloader, 0):\n",
        "            # get the inputs; data is a list of [inputs, labels]\n",
        "            inputs, labels = data\n",
        "\n",
        "            inputs = inputs.to(device)\n",
        "            labels = labels.to(device)\n",
        "\n",
        "            # zero the parameter gradients\n",
        "            optimizer.zero_grad()\n",
        "\n",
        "            # forward + backward + optimize\n",
        "            outputs = model(inputs)\n",
        "            loss = criterion(outputs, labels)\n",
        "            loss.backward()\n",
        "            optimizer.step()\n",
        "\n",
        "            # print statistics\n",
        "            running_loss += loss.item()\n",
        "            if i % 2000 == 1999:    # print every 2000 mini-batches\n",
        "                print('[%d, %5d] loss: %.3f' %\n",
        "                    (epoch + 1, i + 1, running_loss / 2000))\n",
        "                running_loss = 0.0\n",
        "        \n",
        "        print(f\"epoch {epoch} loss {running_loss / (len(dataloader))}\")\n",
        "\n",
        "    print('Finished Training')\n",
        "\n",
        "def test(model: nn.Module, dataloader: DataLoader, max_samples=None) -> float:\n",
        "    correct = 0\n",
        "    total = 0\n",
        "    n_inferences = 0\n",
        "\n",
        "    with torch.no_grad():\n",
        "        for data in dataloader:\n",
        "            images, labels = data\n",
        "\n",
        "            images = images.to(device)\n",
        "            labels = labels.to(device)\n",
        "\n",
        "            outputs = model(images) # get 1 batch worth of image predictions (i.e. 4 predictions of 10 each)\n",
        "            other, predicted = torch.max(outputs.data, 1) # other == values, predicted == indicies\n",
        "            total += labels.size(0)\n",
        "            correct += (predicted == labels).sum().item()\n",
        "\n",
        "            if max_samples:\n",
        "                n_inferences += images.shape[0]\n",
        "                if n_inferences > max_samples:\n",
        "                    break\n",
        "\n",
        "    return 100 * correct / total"
      ]
    },
    {
      "cell_type": "code",
      "execution_count": 16,
      "metadata": {
        "id": "HixhBHaqtmZU"
      },
      "outputs": [
        {
          "name": "stdout",
          "output_type": "stream",
          "text": [
            "epoch 0 loss 2.299804513551751\n",
            "epoch 1 loss 2.297067827107955\n",
            "epoch 2 loss 2.289788695014253\n",
            "epoch 3 loss 2.265292219969691\n",
            "epoch 4 loss 2.1883661649665056\n",
            "epoch 5 loss 2.08947390439559\n",
            "epoch 6 loss 2.0148744017493967\n",
            "epoch 7 loss 1.9545924213467811\n",
            "epoch 8 loss 1.9051320473758542\n",
            "epoch 9 loss 1.8561085736264988\n",
            "epoch 10 loss 1.8117872002173443\n",
            "epoch 11 loss 1.7698594094539175\n",
            "epoch 12 loss 1.7302980933870589\n",
            "epoch 13 loss 1.6957647374698095\n",
            "epoch 14 loss 1.6665791406923411\n",
            "epoch 15 loss 1.6385103105282297\n",
            "epoch 16 loss 1.6153635181942765\n",
            "epoch 17 loss 1.594510933574365\n",
            "epoch 18 loss 1.573520474896139\n",
            "epoch 19 loss 1.5531893567163118\n",
            "epoch 20 loss 1.5378896010165313\n",
            "epoch 21 loss 1.5215990032468523\n",
            "epoch 22 loss 1.503234222835424\n",
            "epoch 23 loss 1.4895854044933707\n",
            "epoch 24 loss 1.4732733679061034\n",
            "epoch 25 loss 1.461086933710137\n",
            "epoch 26 loss 1.4485483035749318\n",
            "epoch 27 loss 1.433521035982638\n",
            "epoch 28 loss 1.4199215112900248\n",
            "epoch 29 loss 1.4091396526414521\n",
            "epoch 30 loss 1.3980244957670873\n",
            "epoch 31 loss 1.3842914864724996\n",
            "epoch 32 loss 1.3717227559916827\n",
            "epoch 33 loss 1.361659667321614\n",
            "epoch 34 loss 1.353301817057084\n",
            "epoch 35 loss 1.3439883699222488\n",
            "epoch 36 loss 1.33104606550567\n",
            "epoch 37 loss 1.3263309379013217\n",
            "epoch 38 loss 1.3163242583372154\n",
            "epoch 39 loss 1.3045987091502365\n",
            "epoch 40 loss 1.3021546273815388\n",
            "epoch 41 loss 1.2896025600482006\n",
            "epoch 42 loss 1.2819173402932225\n",
            "epoch 43 loss 1.2720083855852788\n",
            "epoch 44 loss 1.268209816241751\n",
            "epoch 45 loss 1.253974597673027\n",
            "epoch 46 loss 1.2456702024352795\n",
            "epoch 47 loss 1.2391643493759388\n",
            "epoch 48 loss 1.231189516125893\n",
            "epoch 49 loss 1.2247582546302251\n",
            "epoch 50 loss 1.219741242880724\n",
            "epoch 51 loss 1.2116724714940907\n",
            "epoch 52 loss 1.2053325735792821\n",
            "epoch 53 loss 1.1971980330287193\n",
            "epoch 54 loss 1.1891265310803238\n",
            "epoch 55 loss 1.1836568299604922\n",
            "epoch 56 loss 1.1747137682170283\n",
            "epoch 57 loss 1.1704672477683242\n",
            "epoch 58 loss 1.161936295883996\n",
            "epoch 59 loss 1.1555998805834322\n",
            "epoch 60 loss 1.1485485762965923\n",
            "epoch 61 loss 1.1441919557294067\n",
            "epoch 62 loss 1.1380952703101295\n",
            "epoch 63 loss 1.1309566689389092\n",
            "epoch 64 loss 1.1247257626786524\n",
            "epoch 65 loss 1.1176351424382658\n",
            "epoch 66 loss 1.1135634983680687\n",
            "epoch 67 loss 1.1059754950051406\n",
            "epoch 68 loss 1.0985261493799638\n",
            "epoch 69 loss 1.0937808113438743\n",
            "epoch 70 loss 1.0900027995206871\n",
            "epoch 71 loss 1.0832356482136005\n",
            "epoch 72 loss 1.079555160537058\n",
            "epoch 73 loss 1.06984966141837\n",
            "epoch 74 loss 1.0674953421159667\n",
            "epoch 75 loss 1.0600266243730272\n",
            "epoch 76 loss 1.0569710065515674\n",
            "epoch 77 loss 1.0459465849764493\n",
            "epoch 78 loss 1.0445457699955727\n",
            "epoch 79 loss 1.0405466769422804\n",
            "epoch 80 loss 1.038626245394045\n",
            "epoch 81 loss 1.0293217340902405\n",
            "epoch 82 loss 1.0233341540609087\n",
            "epoch 83 loss 1.0172688790730067\n",
            "epoch 84 loss 1.017486757161666\n",
            "epoch 85 loss 1.0085062545781234\n",
            "epoch 86 loss 1.0073351951277987\n",
            "epoch 87 loss 1.0012659263245913\n",
            "epoch 88 loss 0.9939157558338982\n",
            "epoch 89 loss 0.9918063079216042\n",
            "epoch 90 loss 0.9816057253248838\n",
            "epoch 91 loss 0.9814244599974885\n",
            "epoch 92 loss 0.9788095011394851\n",
            "epoch 93 loss 0.9729525507712851\n",
            "epoch 94 loss 0.9686522365224605\n",
            "epoch 95 loss 0.9616315729764043\n",
            "epoch 96 loss 0.9567126011361882\n",
            "epoch 97 loss 0.952700288928285\n",
            "epoch 98 loss 0.9481341644209258\n",
            "epoch 99 loss 0.946011865625576\n",
            "Finished Training\n"
          ]
        }
      ],
      "source": [
        "train(net, trainloader)"
      ]
    },
    {
      "cell_type": "markdown",
      "metadata": {
        "id": "EJggxnCVuRxU"
      },
      "source": [
        "Now that the CNN has been trained, let's test it on our test dataset."
      ]
    },
    {
      "cell_type": "code",
      "execution_count": 17,
      "metadata": {
        "id": "y27_n-djuEdz"
      },
      "outputs": [
        {
          "name": "stdout",
          "output_type": "stream",
          "text": [
            "Accuracy of the network on the test images: 60.07%\n"
          ]
        }
      ],
      "source": [
        "score = test(net, testloader)\n",
        "print('Accuracy of the network on the test images: {}%'.format(score))"
      ]
    },
    {
      "cell_type": "code",
      "execution_count": 18,
      "metadata": {},
      "outputs": [],
      "source": [
        "torch.save(net, './data/model.pt')"
      ]
    },
    {
      "cell_type": "code",
      "execution_count": 14,
      "metadata": {},
      "outputs": [
        {
          "ename": "AssertionError",
          "evalue": "",
          "output_type": "error",
          "traceback": [
            "\u001b[0;31m---------------------------------------------------------------------------\u001b[0m",
            "\u001b[0;31mAssertionError\u001b[0m                            Traceback (most recent call last)",
            "Cell \u001b[0;32mIn[14], line 1\u001b[0m\n\u001b[0;32m----> 1\u001b[0m \u001b[38;5;28;01massert\u001b[39;00m \u001b[38;5;241m0\u001b[39m\n",
            "\u001b[0;31mAssertionError\u001b[0m: "
          ]
        }
      ],
      "source": [
        "assert 0"
      ]
    },
    {
      "cell_type": "markdown",
      "metadata": {
        "id": "C-GbgOYpjamn"
      },
      "source": [
        "Define a convenience function which we use to copy CNN's."
      ]
    },
    {
      "cell_type": "code",
      "execution_count": 19,
      "metadata": {
        "id": "ZVWbC5YWT-MU"
      },
      "outputs": [],
      "source": [
        "from copy import deepcopy\n",
        "\n",
        "def copy_model(model: nn.Module) -> nn.Module:\n",
        "    result = deepcopy(model)\n",
        "\n",
        "    # Copy over the extra metadata we've collected which copy.deepcopy doesn't capture\n",
        "    if hasattr(model, 'input_activations'):\n",
        "        result.input_activations = deepcopy(model.input_activations)\n",
        "\n",
        "    for result_layer, original_layer in zip(result.children(), model.children()):\n",
        "        if isinstance(result_layer, nn.Conv2d) or isinstance(result_layer, nn.Linear):\n",
        "            if hasattr(original_layer.weight, 'scale'):\n",
        "                result_layer.weight.scale = deepcopy(original_layer.weight.scale)\n",
        "            if hasattr(original_layer, 'activations'):\n",
        "                result_layer.activations = deepcopy(original_layer.activations)\n",
        "            if hasattr(original_layer, 'output_scale'):\n",
        "                result_layer.output_scale = deepcopy(original_layer.output_scale)\n",
        "\n",
        "    return result"
      ]
    },
    {
      "cell_type": "markdown",
      "metadata": {
        "id": "SQZoEjBSveV8"
      },
      "source": [
        "# Question 1: Visualize Weights"
      ]
    },
    {
      "cell_type": "markdown",
      "metadata": {
        "id": "Ap_PBg9Pjll_"
      },
      "source": [
        "## Question 1.1:\n",
        "\n",
        "Plot histograms of the weights of every convolutional and fully-connected layer. Record any observations you make about the distribution of the values."
      ]
    },
    {
      "cell_type": "code",
      "execution_count": 20,
      "metadata": {
        "id": "5qKRX7ply7I2"
      },
      "outputs": [],
      "source": [
        "import matplotlib.pyplot as plt\n",
        "import numpy as np"
      ]
    },
    {
      "cell_type": "code",
      "execution_count": 50,
      "metadata": {
        "id": "N2h7zJ8m3GAF"
      },
      "outputs": [
        {
          "name": "stdout",
          "output_type": "stream",
          "text": [
            "Conv2d(3, 6, kernel_size=(5, 5), stride=(1, 1), bias=False)\n",
            "Conv2d(6, 16, kernel_size=(5, 5), stride=(1, 1), bias=False)\n",
            "Linear(in_features=400, out_features=120, bias=False)\n",
            "Linear(in_features=120, out_features=84, bias=False)\n",
            "Linear(in_features=84, out_features=10, bias=False)\n"
          ]
        },
        {
          "data": {
            "text/plain": [
              "<matplotlib.legend.Legend at 0x7f697861f400>"
            ]
          },
          "execution_count": 50,
          "metadata": {},
          "output_type": "execute_result"
        },
        {
          "data": {
            "image/png": "[encoded data removed]",
            "text/plain": [
              "<Figure size 500x1500 with 5 Axes>"
            ]
          },
          "metadata": {},
          "output_type": "display_data"
        }
      ],
      "source": [
        "# ADD YOUR CODE HERE to plot distributions of weights\n",
        "\n",
        "# You can get a flattened vector of the weights of fc1 like this:\n",
        "#   fc1_weights = net.fc1.weight.data.cpu().view(-1)\n",
        "# Try plotting a histogram of fc1_weights (and the weights of all the other layers as well)\n",
        "\n",
        "wts = []\n",
        "\n",
        "for layer in net.children():\n",
        "    if isinstance(layer, nn.Conv2d) or isinstance(layer, nn.Linear):\n",
        "        print(layer)\n",
        "        if hasattr(layer, 'weight'):\n",
        "            wt = layer.weight.data.cpu().view(-1)\n",
        "            wts.append((str(layer), wt))\n",
        "\n",
        "fig, axs = plt.subplots(len(wts), 1, squeeze=False, figsize=(5, len(wts)*3), sharex=True)\n",
        "\n",
        "nstd = 2\n",
        "\n",
        "for i, (name, wt) in enumerate(wts):\n",
        "    axs[i, 0].hist(wt, label=name, bins=100)\n",
        "\n",
        "    mean = wt.mean()\n",
        "    std = wt.std()\n",
        "\n",
        "    axs[i, 0].axvline(mean - nstd*std)\n",
        "    axs[i, 0].axvline(mean + nstd*std)\n",
        "\n",
        "    axs[i, 0].set_title(name)\n",
        "plt.legend()\n",
        "\n"
      ]
    },
    {
      "cell_type": "markdown",
      "metadata": {
        "id": "tmJEtoCgkLYn"
      },
      "source": [
        "## Question 1.2:\n",
        "\n",
        "Record the range of the weights, as well as their 3-sigma range (the difference between $\\mu + 3\\sigma$ and $\\mu - 3\\sigma$).\n",
        "For which layers is the 3-sigma range larger or smaller than the actual range?\n",
        "Then explain which range you would prefer to use if you were to quantize each layer's weights and wanted to strike a balance between the range of values that could be expressed, and your precision."
      ]
    },
    {
      "cell_type": "code",
      "execution_count": null,
      "metadata": {
        "id": "Oh75YXIXkH57"
      },
      "outputs": [],
      "source": [
        "# ADD YOUR CODE HERE to record the range of the weights"
      ]
    },
    {
      "cell_type": "markdown",
      "metadata": {
        "id": "2hKjshaHD11m"
      },
      "source": [
        "# Question 2: Quantize Weights"
      ]
    },
    {
      "cell_type": "markdown",
      "metadata": {
        "id": "ueJLirORlFbQ"
      },
      "source": [
        "Any convolution or fully-connected layer pass, without a bias, can be described by the equation:\n",
        "\n",
        "$$W*In = Out$$\n",
        "\n",
        "where $W$ is the weight tensor, $In$ in the input tensor, and $Out$ is the output tensor.\n",
        "\n",
        "For this question, your task is to find a *scaling factor*, called $n_W$ for each convolutional and fully connected layer,\n",
        "which would fit inside an 8-bit signed integer.\n",
        "This equation can now be described as the following:\n",
        "\n",
        "$$n_WW*In = n_WOut$$\n",
        "\n",
        "You might wonder: \"Isn't it a problem that the output of the layer has now changed? Wouldn't quantizing the weights change the output of the neural net?\"\n",
        "\n",
        "The answer, of course, is: \"Yes\".\n",
        "However, what we care about is not the *absolute* values output by the CNN, but the relative difference between the probabilities it assigns to different classes for its predictions.\n",
        "Quantizing the weights only scales this relative difference up or down, but it does not affect which class the network assigns the most probability to.\n",
        "Therefore, it does not affect the final predictions that the neural net makes."
      ]
    },
    {
      "cell_type": "markdown",
      "metadata": {
        "id": "2WVKWshdmuvm"
      },
      "source": [
        "Copy the old model into a new model."
      ]
    },
    {
      "cell_type": "code",
      "execution_count": 49,
      "metadata": {
        "id": "qXNk1fXuPGjB"
      },
      "outputs": [],
      "source": [
        "net_q2 = copy_model(net)"
      ]
    },
    {
      "cell_type": "markdown",
      "metadata": {
        "id": "O_L9Yv0Wm7Zo"
      },
      "source": [
        "## Question 2.1:\n",
        "\n",
        "Fill in the `quantized_weights` function.\n",
        "The template code we provide will then call this function on the weights of every layer in the CNN that we just trained at 32-bit floating point precision, to lower them into 8-bit signed integer precision."
      ]
    },
    {
      "cell_type": "code",
      "execution_count": 93,
      "metadata": {
        "id": "GIBrqSFrVi5x"
      },
      "outputs": [],
      "source": [
        "from typing import Tuple\n",
        "\n",
        "def get_scale(x, nstd=3, positive_max=127):\n",
        "  mean = x.mean()\n",
        "  std = x.std()\n",
        "  lower_bound = mean - nstd*std\n",
        "  upper_bound = mean + nstd*std\n",
        "  x = torch.clamp(x, lower_bound, upper_bound)\n",
        "  scale = positive_max / max(abs(lower_bound), upper_bound)\n",
        "\n",
        "  return scale\n",
        "\n",
        "\n",
        "\n",
        "def quantized_weights(weights: torch.Tensor) -> Tuple[torch.Tensor, float]:\n",
        "    '''\n",
        "    Quantize the weights so that all values are integers between -128 and 127.\n",
        "    You may want to use the total range, 3-sigma range, or some other range when\n",
        "    deciding just what factors to scale the float32 values by.\n",
        "\n",
        "    Parameters:\n",
        "    weights (Tensor): The unquantized weights\n",
        "\n",
        "    Returns:\n",
        "    (Tensor, float): A tuple with the following elements:\n",
        "                        * The weights in quantized form, where every value is an integer between -128 and 127.\n",
        "                          The \"dtype\" will still be \"float\", but the values themselves should all be integers.\n",
        "                        * The scaling factor that your weights were multiplied by.\n",
        "                          This value does not need to be an 8-bit integer.\n",
        "    '''\n",
        "\n",
        "    # ADD YOUR CODE HERE\n",
        "    scale = 2.5\n",
        "    # wt = weights.data.cpu().view(-1)\n",
        "    wt = weights.data.cpu()\n",
        "    mean = wt.mean()\n",
        "    std = wt.std()\n",
        "    lower_bound = mean - 3 * std\n",
        "    upper_bound = mean + 3 * std\n",
        "\n",
        "    wt = torch.clamp(wt, lower_bound, upper_bound)\n",
        "\n",
        "    scale = 127 / max(abs(lower_bound), upper_bound)\n",
        "\n",
        "    wt = wt * scale\n",
        "    wt = torch.round(wt)\n",
        "\n",
        "    return torch.clamp(wt, min=-128, max=127), scale"
      ]
    },
    {
      "cell_type": "code",
      "execution_count": 70,
      "metadata": {
        "id": "orOwTnXxU1nb"
      },
      "outputs": [],
      "source": [
        "def quantize_layer_weights(model: nn.Module):\n",
        "    for layer in model.children():\n",
        "        if isinstance(layer, nn.Conv2d) or isinstance(layer, nn.Linear):\n",
        "            q_layer_data, scale = quantized_weights(layer.weight.data)\n",
        "            q_layer_data = q_layer_data.to(device)\n",
        "\n",
        "            layer.weight.data = q_layer_data\n",
        "            layer.weight.scale = scale\n",
        "\n",
        "            if (q_layer_data < -128).any() or (q_layer_data > 127).any():\n",
        "                raise Exception(\"Quantized weights of {} layer include values out of bounds for an 8-bit signed integer\".format(layer.__class__.__name__))\n",
        "            if (q_layer_data != q_layer_data.round()).any():\n",
        "                raise Exception(\"Quantized weights of {} layer include non-integer values\".format(layer.__class__.__name__))\n",
        "\n",
        "net_q2 = copy_model(net)\n",
        "quantize_layer_weights(net_q2)"
      ]
    },
    {
      "cell_type": "markdown",
      "metadata": {
        "id": "Ah_IkrjhnXAM"
      },
      "source": [
        "## Question 2.2:\n",
        "\n",
        "Record the accuracy change of the network after quantizing its weights.\n",
        "If you’ve done everything correctly, the accuracy change should be negligible."
      ]
    },
    {
      "cell_type": "code",
      "execution_count": 71,
      "metadata": {
        "id": "wE3HqeBKVoYR"
      },
      "outputs": [
        {
          "name": "stdout",
          "output_type": "stream",
          "text": [
            "Accuracy of the network after quantizing all weights: 59.38%\n"
          ]
        }
      ],
      "source": [
        "score = test(net_q2, testloader)\n",
        "print('Accuracy of the network after quantizing all weights: {}%'.format(score))"
      ]
    },
    {
      "cell_type": "markdown",
      "metadata": {
        "id": "xg7bfTF1bBVe"
      },
      "source": [
        "# Question 3: Visualize Activations"
      ]
    },
    {
      "cell_type": "markdown",
      "metadata": {
        "id": "ODLMJ6DznjFa"
      },
      "source": [
        "Now that we have quantized the weights of the CNN, we must also quantize the activations (inputs and outputs to layers) traveling through it.\n",
        "But before doing so, let's analyze what values the activations take when travelling through the network.\n",
        "\n",
        "We provide convenience code which will record the values of every pixel of the outputs and inputs travelling through the neural network.\n",
        "(This is the initial CNN, where not even the weights had yet been quantized).\n",
        "We then profile these values when running on a subset of the training set."
      ]
    },
    {
      "cell_type": "code",
      "execution_count": 72,
      "metadata": {
        "id": "HP587b0QYxe9"
      },
      "outputs": [],
      "source": [
        "def register_activation_profiling_hooks(model: Net):\n",
        "    model.input_activations = np.empty(0)\n",
        "    model.conv1.activations = np.empty(0)\n",
        "    model.conv2.activations = np.empty(0)\n",
        "    model.fc1.activations = np.empty(0)\n",
        "    model.fc2.activations = np.empty(0)\n",
        "    model.fc3.activations = np.empty(0)\n",
        "\n",
        "    model.profile_activations = True\n",
        "\n",
        "    def conv1_activations_hook(layer, x, y):\n",
        "        if model.profile_activations:\n",
        "            model.input_activations = np.append(model.input_activations, x[0].cpu().view(-1))\n",
        "    model.conv1.register_forward_hook(conv1_activations_hook)\n",
        "\n",
        "    def conv2_activations_hook(layer, x, y):\n",
        "        if model.profile_activations:\n",
        "            model.conv1.activations = np.append(model.conv1.activations, x[0].cpu().view(-1))\n",
        "    model.conv2.register_forward_hook(conv2_activations_hook)\n",
        "\n",
        "    def fc1_activations_hook(layer, x, y):\n",
        "        if model.profile_activations:\n",
        "            model.conv2.activations = np.append(model.conv2.activations, x[0].cpu().view(-1))\n",
        "    model.fc1.register_forward_hook(fc1_activations_hook)\n",
        "\n",
        "    def fc2_activations_hook(layer, x, y):\n",
        "        if model.profile_activations:\n",
        "            model.fc1.activations = np.append(model.fc1.activations, x[0].cpu().view(-1))\n",
        "    model.fc2.register_forward_hook(fc2_activations_hook)\n",
        "\n",
        "    def fc3_activations_hook(layer, x, y):\n",
        "        if model.profile_activations:\n",
        "            model.fc2.activations = np.append(model.fc2.activations, x[0].cpu().view(-1))\n",
        "            model.fc3.activations = np.append(model.fc3.activations, y[0].cpu().view(-1))\n",
        "    model.fc3.register_forward_hook(fc3_activations_hook)\n"
      ]
    },
    {
      "cell_type": "markdown",
      "metadata": {
        "id": "mnpV3LUZnxtv"
      },
      "source": [
        "Use the unquantized model to profile input and output activations on a subset of the training dataset."
      ]
    },
    {
      "cell_type": "code",
      "execution_count": 74,
      "metadata": {
        "id": "PVvPCIoabLC7"
      },
      "outputs": [
        {
          "name": "stdout",
          "output_type": "stream",
          "text": [
            "68.5546875\n"
          ]
        }
      ],
      "source": [
        "net_q3 = copy_model(net)\n",
        "register_activation_profiling_hooks(net_q3)\n",
        "\n",
        "# Run through the training dataset again while profiling the input and output activations this time\n",
        "# We don't actually have to perform gradient descent for this, so we can use the \"test\" function\n",
        "q3_score = test(net_q3, trainloader, max_samples=400)\n",
        "net_q3.profile_activations = False\n",
        "print(q3_score)"
      ]
    },
    {
      "cell_type": "code",
      "execution_count": 75,
      "metadata": {
        "id": "m1HnYsuAMoxP"
      },
      "outputs": [],
      "source": [
        "input_activations = net_q3.input_activations\n",
        "conv1_output_activations = net_q3.conv1.activations\n",
        "conv2_output_activations = net_q3.conv2.activations\n",
        "fc1_output_activations = net_q3.fc1.activations\n",
        "fc2_output_activations = net_q3.fc2.activations\n",
        "fc3_output_activations = net_q3.fc3.activations"
      ]
    },
    {
      "cell_type": "code",
      "execution_count": 87,
      "metadata": {},
      "outputs": [],
      "source": [
        "activations = [\n",
        "    input_activations,\n",
        "    conv1_output_activations,\n",
        "    conv2_output_activations,\n",
        "    fc1_output_activations,\n",
        "    fc2_output_activations,\n",
        "    fc3_output_activations\n",
        "]"
      ]
    },
    {
      "cell_type": "markdown",
      "metadata": {
        "id": "cDP__SFRoAdh"
      },
      "source": [
        "## Question 3.1:\n",
        "\n",
        "Plot histograms of the input images and the outputs of every convolutional and fully-connected layer.\n",
        "Record any observations you make about the distribution of the values."
      ]
    },
    {
      "cell_type": "code",
      "execution_count": 92,
      "metadata": {
        "id": "AEo8VK46bwjn"
      },
      "outputs": [
        {
          "data": {
            "image/png": "[encoded data removed]",
            "text/plain": [
              "<Figure size 1000x1800 with 6 Axes>"
            ]
          },
          "metadata": {},
          "output_type": "display_data"
        }
      ],
      "source": [
        "# ADD YOUR CODE HERE to plot distributions of activations\n",
        "\n",
        "# Plot histograms of the following variables, and calculate their ranges and 3-sigma ranges:\n",
        "#   input_activations\n",
        "#   conv1_output_activations\n",
        "#   conv2_output_activations\n",
        "#   fc1_output_activations\n",
        "#   fc2_output_activations\n",
        "#   fc3_output_activation\n",
        "\n",
        "n = len(activations)\n",
        "fig, axs = plt.subplots(n, 1, squeeze=False, figsize=(10, 3*n))\n",
        "\n",
        "for i, activation in enumerate(activations):\n",
        "    mean = activation.mean()\n",
        "    std = activation.std()\n",
        "\n",
        "    axs[i, 0].hist(activation, bins=100)\n",
        "    axs[i, 0].set_title(f\"activation {i}\")\n",
        "\n",
        "    axs[i, 0].axvline(mean - 3*std, c='g')\n",
        "    axs[i, 0].axvline(mean + 3*std, c='g')\n",
        "\n",
        "plt.show()"
      ]
    },
    {
      "cell_type": "markdown",
      "metadata": {
        "id": "QDdjK8teoWXS"
      },
      "source": [
        "## Question 3.2:\n",
        "\n",
        "Additionally, record the range of the values, as well as their 3-sigma range (the difference between $\\mu + 3\\sigma$ and $\\mu - 3\\sigma$).\n",
        "For which layers is the 3-sigma range larger or smaller than the actual range?\n",
        "Then explain which range you would prefer to use if you were to quantize each layer's weights and wanted to strike a balance between the range of values that could be expressed, and your precision.\n",
        "Remember that you are plotting the activations *after* activation functions like ReLU have been applied, which means that you should not be worried if you find that your plots are asymmetric."
      ]
    },
    {
      "cell_type": "code",
      "execution_count": null,
      "metadata": {
        "id": "e-7K7zjKoVVO"
      },
      "outputs": [],
      "source": [
        "# ADD YOUR CODE HERE to record the range of the weights"
      ]
    },
    {
      "cell_type": "markdown",
      "metadata": {
        "id": "haiPVx4ibEra"
      },
      "source": [
        "# Question 4: Quantize Activations"
      ]
    },
    {
      "cell_type": "markdown",
      "metadata": {
        "id": "YCNDSAltowM8"
      },
      "source": [
        "Now it is time to quantize the activations (inputs and outputs to layers) traveling through the CNN.\n",
        "Our equation now becomes:\n",
        "\n",
        "$$n_WW*n_{In}In*n_{Out} = n_Wn_{In}n_{Out}Out$$\n",
        "\n",
        "where $n_{In}$ is the scaling factor which was applied to the input to the layer, and $n_{Out}$ is the scaling factor which we decide to apply to the output of the layer.\n",
        "$n_{Out}$ must be chosen such that the expected values of the elements of $Out$ can be scaled down to fit within 8 bits."
      ]
    },
    {
      "cell_type": "markdown",
      "metadata": {
        "id": "vE95vE5opICC"
      },
      "source": [
        "## Question 4.1:\n",
        "\n",
        "Before performing any quantization at all, we could describe the output of the `conv1` layer as:\n",
        "\n",
        "$$W_{conv1} * In = Out_{conv1}$$\n",
        "\n",
        "Suppose that we quantized the input matrix, $In$, scaling it down by $n_{In}$.\n",
        "Suppose that we also scaled the weight matrix, $W_{conv1}$, by $n_{W_{conv1}}$, and the output matrix, $Out_{conv1}$, by $n_{Out_{conv1}}$.\n",
        "\n",
        "In the lab report answer the following sub-questions for **4.1.**:\n",
        "\n",
        "**(a)** Write an equation describing the output of the `conv1` layer with these new scaling parameters.\n",
        "\n",
        "**(b)** Write an equation describing the output of the `conv2` layer in terms of $In$, $W_{conv1}$, $W_{conv2}$, $Out_{conv1}$, $Out_{conv2}$, $n_{In}$, $n_{W_{conv1}}$, $n_{W_{conv2}}$, $n_{Out_{conv1}}$, and $n_{Out_{conv2}}$.\n",
        "You can pretend that the pooling layers do not exist."
      ]
    },
    {
      "cell_type": "markdown",
      "metadata": {
        "id": "vVTwOGR3p8Qu"
      },
      "source": [
        "## Question 4.2:\n",
        "\n",
        "Complete the `quantize_initial_input` and `quantize_activations` functions which calculate the scaling factors for the initial image which is input to the CNN, and the outputs of each layer, respectively.\n",
        "\n",
        "## Question 4.3:\n",
        "\n",
        "Complete the `forward` function for the `NetQuantized` class.\n",
        "You will have to add code here to scale the outputs of each layer, and then to clamp the outputs of each layer to integers between -128 and 127 afterwards."
      ]
    },
    {
      "cell_type": "code",
      "execution_count": 94,
      "metadata": {
        "id": "zLjSp7hsXofq"
      },
      "outputs": [],
      "source": [
        "from typing import List\n",
        "\n",
        "class NetQuantized(nn.Module):\n",
        "    def __init__(self, net_with_weights_quantized: nn.Module):\n",
        "        super(NetQuantized, self).__init__()\n",
        "\n",
        "        net_init = copy_model(net_with_weights_quantized)\n",
        "\n",
        "        self.conv1 = net_init.conv1\n",
        "        self.pool = net_init.pool\n",
        "        self.conv2 = net_init.conv2\n",
        "        self.fc1 = net_init.fc1\n",
        "        self.fc2 = net_init.fc2\n",
        "        self.fc3 = net_init.fc3\n",
        "\n",
        "        for layer in self.conv1, self.conv2, self.fc1, self.fc2, self.fc3:\n",
        "            def pre_hook(l, x):\n",
        "                x = x[0]\n",
        "                if (x < -128).any() or (x > 127).any():\n",
        "                    raise Exception(\"Input to {} layer is out of bounds for an 8-bit signed integer\".format(l.__class__.__name__))\n",
        "                if (x != x.round()).any():\n",
        "                    raise Exception(\"Input to {} layer has non-integer values\".format(l.__class__.__name__))\n",
        "\n",
        "            layer.register_forward_pre_hook(pre_hook)\n",
        "\n",
        "        # Calculate the scaling factor for the initial input to the CNN\n",
        "        self.input_activations = net_with_weights_quantized.input_activations\n",
        "        self.input_scale = NetQuantized.quantize_initial_input(self.input_activations)\n",
        "\n",
        "        # Calculate the output scaling factors for all the layers of the CNN\n",
        "        preceding_layer_scales = []\n",
        "        for layer in self.conv1, self.conv2, self.fc1, self.fc2, self.fc3:\n",
        "            layer.output_scale = NetQuantized.quantize_activations(layer.activations, layer.weight.scale, self.input_scale, preceding_layer_scales)\n",
        "            preceding_layer_scales.append((layer.weight.scale, layer.output_scale))\n",
        "\n",
        "    @staticmethod\n",
        "    def quantize_initial_input(pixels: np.ndarray) -> float:\n",
        "        '''\n",
        "        Calculate a scaling factor for the images that are input to the first layer of the CNN.\n",
        "\n",
        "        Parameters:\n",
        "        pixels (ndarray): The values of all the pixels which were part of the input image during training\n",
        "\n",
        "        Returns:\n",
        "        float: A scaling factor that the input should be multiplied by before being fed into the first layer.\n",
        "               This value does not need to be an 8-bit integer.\n",
        "        '''\n",
        "\n",
        "        # ADD YOUR CODE HERE\n",
        "        return get_scale(pixels)\n",
        "\n",
        "    @staticmethod\n",
        "    def quantize_activations(activations: np.ndarray, n_w: float, n_initial_input: float, ns: List[Tuple[float, float]]) -> float:\n",
        "        '''\n",
        "        Calculate a scaling factor to multiply the output of a layer by.\n",
        "\n",
        "        Parameters:\n",
        "        activations (ndarray): The values of all the pixels which have been output by this layer during training\n",
        "        n_w (float): The scale by which the weights of this layer were multiplied as part of the \"quantize_weights\" function you wrote earlier\n",
        "        n_initial_input (float): The scale by which the initial input to the neural network was multiplied\n",
        "        ns ([(float, float)]): A list of tuples, where each tuple represents the \"weight scale\" and \"output scale\" (in that order) for every preceding layer\n",
        "\n",
        "        Returns:\n",
        "        float: A scaling factor that the layer output should be multiplied by before being fed into the first layer.\n",
        "               This value does not need to be an 8-bit integer.\n",
        "        '''\n",
        "\n",
        "        # ADD YOUR CODE HERE\n",
        "        return 1.0\n",
        "\n",
        "    def forward(self, x: torch.Tensor) -> torch.Tensor:\n",
        "        # You can access the output activation scales like this:\n",
        "        #   fc1_output_scale = self.fc1.output_scale\n",
        "\n",
        "        # To make sure that the outputs of each layer are integers between -128 and 127, you may need to use the following functions:\n",
        "        #   * torch.Tensor.round\n",
        "        #   * torch.clamp\n",
        "\n",
        "        # ADD YOUR CODE HERE\n",
        "        return torch.Tensor([[1.0, 0, 0, 0, 0, 0, 0, 0, 0, 0],\n",
        "                             [1.0, 0, 0, 0, 0, 0, 0, 0, 0, 0],\n",
        "                             [1.0, 0, 0, 0, 0, 0, 0, 0, 0, 0],\n",
        "                             [1.0, 0, 0, 0, 0, 0, 0, 0, 0, 0]]).to(device)\n",
        "\n",
        "        return x"
      ]
    },
    {
      "cell_type": "code",
      "execution_count": null,
      "metadata": {
        "id": "13CpHgvE994J"
      },
      "outputs": [],
      "source": [
        "# Merge the information from net_q2 and net_q3 together\n",
        "net_init = copy_model(net_q2)\n",
        "net_init.input_activations = deepcopy(net_q3.input_activations)\n",
        "for layer_init, layer_q3 in zip(net_init.children(), net_q3.children()):\n",
        "    if isinstance(layer_init, nn.Conv2d) or isinstance(layer_init, nn.Linear):\n",
        "        layer_init.activations = deepcopy(layer_q3.activations)\n",
        "\n",
        "net_quantized = NetQuantized(net_init)"
      ]
    },
    {
      "cell_type": "markdown",
      "metadata": {
        "id": "HrMRIDDhqiWl"
      },
      "source": [
        "## Question 4.4:\n",
        "\n",
        "Finally, record the accuracy of your network after both weights and activations have been quantized.\n",
        "If you've done everything right, you should still find almost no accuracy change."
      ]
    },
    {
      "cell_type": "code",
      "execution_count": null,
      "metadata": {
        "id": "VcBXEodN6hrY"
      },
      "outputs": [],
      "source": [
        "score = test(net_quantized, testloader)\n",
        "print('Accuracy of the network after quantizing both weights and activations: {}%'.format(score))"
      ]
    },
    {
      "cell_type": "markdown",
      "metadata": {
        "id": "1jTOL7scbMs7"
      },
      "source": [
        "# Question 5: Quantize Biases"
      ]
    },
    {
      "cell_type": "markdown",
      "metadata": {
        "id": "xnTajSR6qpvZ"
      },
      "source": [
        "Let us now update our CNN to include a bias in its final layer, *fc3*.\n",
        "We have already included code to create and train a new CNN called `net_with_bias`.\n",
        "\n",
        "Consider how a bias affects the equation for an unquantized layer:\n",
        "\n",
        "$$W * In + \\beta = Out$$\n",
        "\n",
        "where $\\beta$ is the bias."
      ]
    },
    {
      "cell_type": "markdown",
      "metadata": {
        "id": "KVF-HrHTrCQ4"
      },
      "source": [
        "## Question 5.1:\n",
        "\n",
        "Suppose that we again quantized a biased layer with the same scaling factors we used in previous questions: $n_W$, $n_{In}$, and $n_{Out}$.\n",
        "What would we scale $\\beta$ by in this case?\n",
        "Write an equation in your lab report to describe the output of the quantized layer with a bias."
      ]
    },
    {
      "cell_type": "markdown",
      "metadata": {
        "id": "6DSlteOIrW4n"
      },
      "source": [
        "Create a new network with a bias on *fc3*."
      ]
    },
    {
      "cell_type": "code",
      "execution_count": null,
      "metadata": {
        "id": "bvv9-k1HPbgz"
      },
      "outputs": [],
      "source": [
        "class NetWithBias(nn.Module):\n",
        "    def __init__(self):\n",
        "        super(NetWithBias, self).__init__()\n",
        "\n",
        "        self.conv1 = nn.Conv2d(3, 6, 5, bias=False)\n",
        "        self.pool = nn.MaxPool2d(2, 2)\n",
        "        self.conv2 = nn.Conv2d(6, 16, 5, bias=False)\n",
        "        self.fc1 = nn.Linear(16 * 5 * 5, 120, bias=False)\n",
        "        self.fc2 = nn.Linear(120, 84, bias=False)\n",
        "        self.fc3 = nn.Linear(84, 10, bias=True)\n",
        "\n",
        "    def forward(self, x: torch.Tensor) -> torch.Tensor:\n",
        "        x = self.pool(F.relu(self.conv1(x)))\n",
        "        x = self.pool(F.relu(self.conv2(x)))\n",
        "        x = x.view(-1, 16 * 5 * 5)\n",
        "        x = F.relu(self.fc1(x))\n",
        "        x = F.relu(self.fc2(x))\n",
        "        x = self.fc3(x)\n",
        "        return x\n",
        "\n",
        "net_with_bias = NetWithBias().to(device)"
      ]
    },
    {
      "cell_type": "markdown",
      "metadata": {
        "id": "HwEA1Scirfgd"
      },
      "source": [
        "Train and score the network."
      ]
    },
    {
      "cell_type": "code",
      "execution_count": null,
      "metadata": {
        "id": "wjk3hEQaVDpq"
      },
      "outputs": [],
      "source": [
        "train(net_with_bias, trainloader)"
      ]
    },
    {
      "cell_type": "code",
      "execution_count": null,
      "metadata": {
        "id": "9vLUCDnnVf4R"
      },
      "outputs": [],
      "source": [
        "score = test(net_with_bias, testloader)\n",
        "print('Accuracy of the network (with a bias) on the test images: {}%'.format(score))"
      ]
    },
    {
      "cell_type": "markdown",
      "metadata": {
        "id": "wfgx1kC9rpIB"
      },
      "source": [
        "Test the network with quantized weights but unquantized bias."
      ]
    },
    {
      "cell_type": "code",
      "execution_count": null,
      "metadata": {
        "id": "U_ZiJk6yEEM-"
      },
      "outputs": [],
      "source": [
        "register_activation_profiling_hooks(net_with_bias)\n",
        "test(net_with_bias, trainloader, max_samples=400)\n",
        "net_with_bias.profile_activations = False"
      ]
    },
    {
      "cell_type": "code",
      "execution_count": null,
      "metadata": {
        "id": "yZwk8KLtAUAM"
      },
      "outputs": [],
      "source": [
        "net_with_bias_with_quantized_weights = copy_model(net_with_bias)\n",
        "quantize_layer_weights(net_with_bias_with_quantized_weights)\n",
        "\n",
        "score = test(net_with_bias_with_quantized_weights, testloader)\n",
        "print('Accuracy of the network on the test images after all the weights are quantized but the bias isn\\'t: {}%'.format(score))"
      ]
    },
    {
      "cell_type": "markdown",
      "metadata": {
        "id": "1apkXYsdrvBD"
      },
      "source": [
        "## Question 5.2:\n",
        "\n",
        "Fill in the `quantized_bias` function in the `NetQuantizedWithBias` class.\n",
        "This function is meant to quantize the bias on the final layer of the CNN.\n",
        "Keep in mind that biases are typically quantized to 32-bits, so your bias values do not all have to be between -128 and 127 (though 32-bits is a bit conservative)."
      ]
    },
    {
      "cell_type": "code",
      "execution_count": null,
      "metadata": {
        "id": "ULnpgyBNw-Qo"
      },
      "outputs": [],
      "source": [
        "# slightly clearer bias bounds (32b signed integer)\n",
        "MIN_32B_SINT = -(2**31)\n",
        "MAX_32B_SINT = (2**31) - 1"
      ]
    },
    {
      "cell_type": "code",
      "execution_count": null,
      "metadata": {
        "id": "mO2Gdu_tEZ4v"
      },
      "outputs": [],
      "source": [
        "class NetQuantizedWithBias(NetQuantized):\n",
        "    def __init__(self, net_with_weights_quantized: nn.Module):\n",
        "        super(NetQuantizedWithBias, self).__init__(net_with_weights_quantized)\n",
        "\n",
        "        preceding_scales = [(layer.weight.scale, layer.output_scale) for layer in self.children() if isinstance(layer, nn.Conv2d) or isinstance(layer, nn.Linear)][:-1]\n",
        "\n",
        "        #print(self.fc3.bias.data)\n",
        "        self.fc3.bias.data = NetQuantizedWithBias.quantized_bias(\n",
        "            self.fc3.bias.data,\n",
        "            self.fc3.weight.scale,\n",
        "            self.input_scale,\n",
        "            preceding_scales\n",
        "        )\n",
        "        #print(self.fc3.bias.data)\n",
        "\n",
        "        if (self.fc3.bias.data < MIN_32B_SINT).any() or (self.fc3.bias.data > MAX_32B_SINT).any():\n",
        "            raise Exception(\"Bias has values which are out of bounds for an 32-bit signed integer\")\n",
        "        if (self.fc3.bias.data != self.fc3.bias.data.round()).any():\n",
        "            raise Exception(\"Bias has non-integer values\")\n",
        "\n",
        "    @staticmethod\n",
        "    def quantized_bias(bias: torch.Tensor, n_w: float, n_initial_input: float, ns: List[Tuple[float, float]]) -> torch.Tensor:\n",
        "        '''\n",
        "        Quantize the bias so that all values are integers between MIN_32B_SINT and MAX_32B_SINT.\n",
        "\n",
        "        Parameters:\n",
        "        bias (Tensor): The floating point values of the bias\n",
        "        n_w (float): The scale by which the weights of this layer were multiplied\n",
        "        n_initial_input (float): The scale by which the initial input to the neural network was multiplied\n",
        "        ns ([(float, float)]): A list of tuples, where each tuple represents the \"weight scale\" and \"output scale\" (in that order) for every preceding layer\n",
        "\n",
        "        Returns:\n",
        "        Tensor: The bias in quantized form, where every value is an integer between MIN_32B_SINT and MAX_32B_SINT.\n",
        "                The \"dtype\" will still be \"float\", but the values themselves should all be integers.\n",
        "        '''\n",
        "\n",
        "        # ADD YOUR CODE HERE\n",
        "        return torch.clamp((bias * 2.5).round(), min=MIN_32B_SINT, max=MAX_32B_SINT)"
      ]
    },
    {
      "cell_type": "code",
      "execution_count": null,
      "metadata": {
        "id": "TA6rXt3Q-zF8"
      },
      "outputs": [],
      "source": [
        "net_quantized_with_bias = NetQuantizedWithBias(net_with_bias_with_quantized_weights)"
      ]
    },
    {
      "cell_type": "markdown",
      "metadata": {
        "id": "0sLGGUTsr-NH"
      },
      "source": [
        "## Question 5.3:\n",
        "\n",
        "What is your accuracy before and after quantizing CNN with the bias?\n",
        "The accuracy change should ideally be negligible."
      ]
    },
    {
      "cell_type": "code",
      "execution_count": null,
      "metadata": {
        "id": "UJvR6Wv_GJJX"
      },
      "outputs": [],
      "source": [
        "score = test(net_quantized_with_bias, testloader)\n",
        "print('Accuracy of the network on the test images after all the weights and the bias are quantized: {}%'.format(score))"
      ]
    }
  ],
  "metadata": {
    "accelerator": "GPU",
    "colab": {
      "provenance": [],
      "toc_visible": true
    },
    "kernelspec": {
      "display_name": "Python 3",
      "name": "python3"
    },
    "language_info": {
      "codemirror_mode": {
        "name": "ipython",
        "version": 3
      },
      "file_extension": ".py",
      "mimetype": "text/x-python",
      "name": "python",
      "nbconvert_exporter": "python",
      "pygments_lexer": "ipython3",
      "version": "3.10.13"
    }
  },
  "nbformat": 4,
  "nbformat_minor": 0
}
